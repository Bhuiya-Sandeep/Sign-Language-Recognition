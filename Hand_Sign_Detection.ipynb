{
  "nbformat": 4,
  "nbformat_minor": 0,
  "metadata": {
    "colab": {
      "name": "Hand Sign Detection",
      "provenance": []
    },
    "kernelspec": {
      "name": "python3",
      "display_name": "Python 3"
    },
    "language_info": {
      "name": "python"
    }
  },
  "cells": [
    {
      "cell_type": "code",
      "execution_count": 8,
      "metadata": {
        "id": "xQWS5QLg3QE5"
      },
      "outputs": [],
      "source": [
        "import numpy as np \n",
        "import pandas as pd \n",
        "import matplotlib.pyplot as plt\n",
        "import seaborn as sns\n",
        "import keras\n",
        "import cv2\n",
        "from keras.models import Sequential\n",
        "from keras.models import load_model\n",
        "from keras.preprocessing.image import img_to_array\n",
        "from keras.layers import Dense,Flatten,Conv2D,MaxPool2D,Dropout\n",
        "from tensorflow.keras.layers import BatchNormalization\n",
        "import pickle\n",
        "import os\n",
        "import warnings\n",
        "warnings.filterwarnings(\"ignore\")       \n",
        "plt.style.use('fivethirtyeight') \n",
        "\n"
      ]
    },
    {
      "cell_type": "code",
      "source": [
        "train = pd.read_csv('/content/TrainData.csv')\n",
        "test = pd.read_csv('/content/TestData.csv')\n",
        "train.head()"
      ],
      "metadata": {
        "colab": {
          "base_uri": "https://localhost:8080/",
          "height": 299
        },
        "id": "ICVuH0uq3m75",
        "outputId": "25d408d1-2121-4be6-ecd8-66c09d6640fe"
      },
      "execution_count": 9,
      "outputs": [
        {
          "output_type": "execute_result",
          "data": {
            "text/plain": [
              "   pixel_0  pixel_1  pixel_2  pixel_3  pixel_4  pixel_5  pixel_6  pixel_7  \\\n",
              "0      255      255      255      255      255      255      255      255   \n",
              "1      255      255      255      255      255      255      255      255   \n",
              "2      255      255      255      255      255      255      255      255   \n",
              "3      255      255      255      255      255      255      255      255   \n",
              "4      255      255      255      255      255      255      255      255   \n",
              "\n",
              "   pixel_8  pixel_9  ...  pixel_775  pixel_776  pixel_777  pixel_778  \\\n",
              "0      255      255  ...        255        255        255        255   \n",
              "1      255      255  ...        255        255        255        255   \n",
              "2      255      255  ...        255        255        255        255   \n",
              "3      255      255  ...        255        255        255        255   \n",
              "4      255      255  ...        255        255        255        255   \n",
              "\n",
              "   pixel_779  pixel_780  pixel_781  pixel_782  pixel_783  label  \n",
              "0        255        255        255        255        255      0  \n",
              "1        255        255        255        255        255      0  \n",
              "2        255        255        255        255        255      0  \n",
              "3        255        255        255        255        255      0  \n",
              "4        255        255        255        255        255      0  \n",
              "\n",
              "[5 rows x 785 columns]"
            ],
            "text/html": [
              "\n",
              "  <div id=\"df-326c4dbf-3916-4631-8cba-0ad5d9a3305d\">\n",
              "    <div class=\"colab-df-container\">\n",
              "      <div>\n",
              "<style scoped>\n",
              "    .dataframe tbody tr th:only-of-type {\n",
              "        vertical-align: middle;\n",
              "    }\n",
              "\n",
              "    .dataframe tbody tr th {\n",
              "        vertical-align: top;\n",
              "    }\n",
              "\n",
              "    .dataframe thead th {\n",
              "        text-align: right;\n",
              "    }\n",
              "</style>\n",
              "<table border=\"1\" class=\"dataframe\">\n",
              "  <thead>\n",
              "    <tr style=\"text-align: right;\">\n",
              "      <th></th>\n",
              "      <th>pixel_0</th>\n",
              "      <th>pixel_1</th>\n",
              "      <th>pixel_2</th>\n",
              "      <th>pixel_3</th>\n",
              "      <th>pixel_4</th>\n",
              "      <th>pixel_5</th>\n",
              "      <th>pixel_6</th>\n",
              "      <th>pixel_7</th>\n",
              "      <th>pixel_8</th>\n",
              "      <th>pixel_9</th>\n",
              "      <th>...</th>\n",
              "      <th>pixel_775</th>\n",
              "      <th>pixel_776</th>\n",
              "      <th>pixel_777</th>\n",
              "      <th>pixel_778</th>\n",
              "      <th>pixel_779</th>\n",
              "      <th>pixel_780</th>\n",
              "      <th>pixel_781</th>\n",
              "      <th>pixel_782</th>\n",
              "      <th>pixel_783</th>\n",
              "      <th>label</th>\n",
              "    </tr>\n",
              "  </thead>\n",
              "  <tbody>\n",
              "    <tr>\n",
              "      <th>0</th>\n",
              "      <td>255</td>\n",
              "      <td>255</td>\n",
              "      <td>255</td>\n",
              "      <td>255</td>\n",
              "      <td>255</td>\n",
              "      <td>255</td>\n",
              "      <td>255</td>\n",
              "      <td>255</td>\n",
              "      <td>255</td>\n",
              "      <td>255</td>\n",
              "      <td>...</td>\n",
              "      <td>255</td>\n",
              "      <td>255</td>\n",
              "      <td>255</td>\n",
              "      <td>255</td>\n",
              "      <td>255</td>\n",
              "      <td>255</td>\n",
              "      <td>255</td>\n",
              "      <td>255</td>\n",
              "      <td>255</td>\n",
              "      <td>0</td>\n",
              "    </tr>\n",
              "    <tr>\n",
              "      <th>1</th>\n",
              "      <td>255</td>\n",
              "      <td>255</td>\n",
              "      <td>255</td>\n",
              "      <td>255</td>\n",
              "      <td>255</td>\n",
              "      <td>255</td>\n",
              "      <td>255</td>\n",
              "      <td>255</td>\n",
              "      <td>255</td>\n",
              "      <td>255</td>\n",
              "      <td>...</td>\n",
              "      <td>255</td>\n",
              "      <td>255</td>\n",
              "      <td>255</td>\n",
              "      <td>255</td>\n",
              "      <td>255</td>\n",
              "      <td>255</td>\n",
              "      <td>255</td>\n",
              "      <td>255</td>\n",
              "      <td>255</td>\n",
              "      <td>0</td>\n",
              "    </tr>\n",
              "    <tr>\n",
              "      <th>2</th>\n",
              "      <td>255</td>\n",
              "      <td>255</td>\n",
              "      <td>255</td>\n",
              "      <td>255</td>\n",
              "      <td>255</td>\n",
              "      <td>255</td>\n",
              "      <td>255</td>\n",
              "      <td>255</td>\n",
              "      <td>255</td>\n",
              "      <td>255</td>\n",
              "      <td>...</td>\n",
              "      <td>255</td>\n",
              "      <td>255</td>\n",
              "      <td>255</td>\n",
              "      <td>255</td>\n",
              "      <td>255</td>\n",
              "      <td>255</td>\n",
              "      <td>255</td>\n",
              "      <td>255</td>\n",
              "      <td>255</td>\n",
              "      <td>0</td>\n",
              "    </tr>\n",
              "    <tr>\n",
              "      <th>3</th>\n",
              "      <td>255</td>\n",
              "      <td>255</td>\n",
              "      <td>255</td>\n",
              "      <td>255</td>\n",
              "      <td>255</td>\n",
              "      <td>255</td>\n",
              "      <td>255</td>\n",
              "      <td>255</td>\n",
              "      <td>255</td>\n",
              "      <td>255</td>\n",
              "      <td>...</td>\n",
              "      <td>255</td>\n",
              "      <td>255</td>\n",
              "      <td>255</td>\n",
              "      <td>255</td>\n",
              "      <td>255</td>\n",
              "      <td>255</td>\n",
              "      <td>255</td>\n",
              "      <td>255</td>\n",
              "      <td>255</td>\n",
              "      <td>0</td>\n",
              "    </tr>\n",
              "    <tr>\n",
              "      <th>4</th>\n",
              "      <td>255</td>\n",
              "      <td>255</td>\n",
              "      <td>255</td>\n",
              "      <td>255</td>\n",
              "      <td>255</td>\n",
              "      <td>255</td>\n",
              "      <td>255</td>\n",
              "      <td>255</td>\n",
              "      <td>255</td>\n",
              "      <td>255</td>\n",
              "      <td>...</td>\n",
              "      <td>255</td>\n",
              "      <td>255</td>\n",
              "      <td>255</td>\n",
              "      <td>255</td>\n",
              "      <td>255</td>\n",
              "      <td>255</td>\n",
              "      <td>255</td>\n",
              "      <td>255</td>\n",
              "      <td>255</td>\n",
              "      <td>0</td>\n",
              "    </tr>\n",
              "  </tbody>\n",
              "</table>\n",
              "<p>5 rows × 785 columns</p>\n",
              "</div>\n",
              "      <button class=\"colab-df-convert\" onclick=\"convertToInteractive('df-326c4dbf-3916-4631-8cba-0ad5d9a3305d')\"\n",
              "              title=\"Convert this dataframe to an interactive table.\"\n",
              "              style=\"display:none;\">\n",
              "        \n",
              "  <svg xmlns=\"http://www.w3.org/2000/svg\" height=\"24px\"viewBox=\"0 0 24 24\"\n",
              "       width=\"24px\">\n",
              "    <path d=\"M0 0h24v24H0V0z\" fill=\"none\"/>\n",
              "    <path d=\"M18.56 5.44l.94 2.06.94-2.06 2.06-.94-2.06-.94-.94-2.06-.94 2.06-2.06.94zm-11 1L8.5 8.5l.94-2.06 2.06-.94-2.06-.94L8.5 2.5l-.94 2.06-2.06.94zm10 10l.94 2.06.94-2.06 2.06-.94-2.06-.94-.94-2.06-.94 2.06-2.06.94z\"/><path d=\"M17.41 7.96l-1.37-1.37c-.4-.4-.92-.59-1.43-.59-.52 0-1.04.2-1.43.59L10.3 9.45l-7.72 7.72c-.78.78-.78 2.05 0 2.83L4 21.41c.39.39.9.59 1.41.59.51 0 1.02-.2 1.41-.59l7.78-7.78 2.81-2.81c.8-.78.8-2.07 0-2.86zM5.41 20L4 18.59l7.72-7.72 1.47 1.35L5.41 20z\"/>\n",
              "  </svg>\n",
              "      </button>\n",
              "      \n",
              "  <style>\n",
              "    .colab-df-container {\n",
              "      display:flex;\n",
              "      flex-wrap:wrap;\n",
              "      gap: 12px;\n",
              "    }\n",
              "\n",
              "    .colab-df-convert {\n",
              "      background-color: #E8F0FE;\n",
              "      border: none;\n",
              "      border-radius: 50%;\n",
              "      cursor: pointer;\n",
              "      display: none;\n",
              "      fill: #1967D2;\n",
              "      height: 32px;\n",
              "      padding: 0 0 0 0;\n",
              "      width: 32px;\n",
              "    }\n",
              "\n",
              "    .colab-df-convert:hover {\n",
              "      background-color: #E2EBFA;\n",
              "      box-shadow: 0px 1px 2px rgba(60, 64, 67, 0.3), 0px 1px 3px 1px rgba(60, 64, 67, 0.15);\n",
              "      fill: #174EA6;\n",
              "    }\n",
              "\n",
              "    [theme=dark] .colab-df-convert {\n",
              "      background-color: #3B4455;\n",
              "      fill: #D2E3FC;\n",
              "    }\n",
              "\n",
              "    [theme=dark] .colab-df-convert:hover {\n",
              "      background-color: #434B5C;\n",
              "      box-shadow: 0px 1px 3px 1px rgba(0, 0, 0, 0.15);\n",
              "      filter: drop-shadow(0px 1px 2px rgba(0, 0, 0, 0.3));\n",
              "      fill: #FFFFFF;\n",
              "    }\n",
              "  </style>\n",
              "\n",
              "      <script>\n",
              "        const buttonEl =\n",
              "          document.querySelector('#df-326c4dbf-3916-4631-8cba-0ad5d9a3305d button.colab-df-convert');\n",
              "        buttonEl.style.display =\n",
              "          google.colab.kernel.accessAllowed ? 'block' : 'none';\n",
              "\n",
              "        async function convertToInteractive(key) {\n",
              "          const element = document.querySelector('#df-326c4dbf-3916-4631-8cba-0ad5d9a3305d');\n",
              "          const dataTable =\n",
              "            await google.colab.kernel.invokeFunction('convertToInteractive',\n",
              "                                                     [key], {});\n",
              "          if (!dataTable) return;\n",
              "\n",
              "          const docLinkHtml = 'Like what you see? Visit the ' +\n",
              "            '<a target=\"_blank\" href=https://colab.research.google.com/notebooks/data_table.ipynb>data table notebook</a>'\n",
              "            + ' to learn more about interactive tables.';\n",
              "          element.innerHTML = '';\n",
              "          dataTable['output_type'] = 'display_data';\n",
              "          await google.colab.output.renderOutput(dataTable, element);\n",
              "          const docLink = document.createElement('div');\n",
              "          docLink.innerHTML = docLinkHtml;\n",
              "          element.appendChild(docLink);\n",
              "        }\n",
              "      </script>\n",
              "    </div>\n",
              "  </div>\n",
              "  "
            ]
          },
          "metadata": {},
          "execution_count": 9
        }
      ]
    },
    {
      "cell_type": "code",
      "source": [
        "train.shape\n"
      ],
      "metadata": {
        "colab": {
          "base_uri": "https://localhost:8080/"
        },
        "id": "eOihbgKU3wXE",
        "outputId": "42a2edf6-a81c-425c-e3c4-19f71ba83d8a"
      },
      "execution_count": 10,
      "outputs": [
        {
          "output_type": "execute_result",
          "data": {
            "text/plain": [
              "(12844, 785)"
            ]
          },
          "metadata": {},
          "execution_count": 10
        }
      ]
    },
    {
      "cell_type": "code",
      "source": [
        "train_label=train['label']\n",
        "train_label.head()\n",
        "trainset=train.drop(['label'],axis=1)\n",
        "trainset.head()"
      ],
      "metadata": {
        "colab": {
          "base_uri": "https://localhost:8080/",
          "height": 299
        },
        "id": "yZCWICUi3y4u",
        "outputId": "a7efece6-f8b8-4e20-9c21-2f238df19021"
      },
      "execution_count": 11,
      "outputs": [
        {
          "output_type": "execute_result",
          "data": {
            "text/plain": [
              "   pixel_0  pixel_1  pixel_2  pixel_3  pixel_4  pixel_5  pixel_6  pixel_7  \\\n",
              "0      255      255      255      255      255      255      255      255   \n",
              "1      255      255      255      255      255      255      255      255   \n",
              "2      255      255      255      255      255      255      255      255   \n",
              "3      255      255      255      255      255      255      255      255   \n",
              "4      255      255      255      255      255      255      255      255   \n",
              "\n",
              "   pixel_8  pixel_9  ...  pixel_774  pixel_775  pixel_776  pixel_777  \\\n",
              "0      255      255  ...        255        255        255        255   \n",
              "1      255      255  ...        255        255        255        255   \n",
              "2      255      255  ...        255        255        255        255   \n",
              "3      255      255  ...        255        255        255        255   \n",
              "4      255      255  ...        255        255        255        255   \n",
              "\n",
              "   pixel_778  pixel_779  pixel_780  pixel_781  pixel_782  pixel_783  \n",
              "0        255        255        255        255        255        255  \n",
              "1        255        255        255        255        255        255  \n",
              "2        255        255        255        255        255        255  \n",
              "3        255        255        255        255        255        255  \n",
              "4        255        255        255        255        255        255  \n",
              "\n",
              "[5 rows x 784 columns]"
            ],
            "text/html": [
              "\n",
              "  <div id=\"df-23138346-de4d-45a8-a8bd-4eaa9fb589c3\">\n",
              "    <div class=\"colab-df-container\">\n",
              "      <div>\n",
              "<style scoped>\n",
              "    .dataframe tbody tr th:only-of-type {\n",
              "        vertical-align: middle;\n",
              "    }\n",
              "\n",
              "    .dataframe tbody tr th {\n",
              "        vertical-align: top;\n",
              "    }\n",
              "\n",
              "    .dataframe thead th {\n",
              "        text-align: right;\n",
              "    }\n",
              "</style>\n",
              "<table border=\"1\" class=\"dataframe\">\n",
              "  <thead>\n",
              "    <tr style=\"text-align: right;\">\n",
              "      <th></th>\n",
              "      <th>pixel_0</th>\n",
              "      <th>pixel_1</th>\n",
              "      <th>pixel_2</th>\n",
              "      <th>pixel_3</th>\n",
              "      <th>pixel_4</th>\n",
              "      <th>pixel_5</th>\n",
              "      <th>pixel_6</th>\n",
              "      <th>pixel_7</th>\n",
              "      <th>pixel_8</th>\n",
              "      <th>pixel_9</th>\n",
              "      <th>...</th>\n",
              "      <th>pixel_774</th>\n",
              "      <th>pixel_775</th>\n",
              "      <th>pixel_776</th>\n",
              "      <th>pixel_777</th>\n",
              "      <th>pixel_778</th>\n",
              "      <th>pixel_779</th>\n",
              "      <th>pixel_780</th>\n",
              "      <th>pixel_781</th>\n",
              "      <th>pixel_782</th>\n",
              "      <th>pixel_783</th>\n",
              "    </tr>\n",
              "  </thead>\n",
              "  <tbody>\n",
              "    <tr>\n",
              "      <th>0</th>\n",
              "      <td>255</td>\n",
              "      <td>255</td>\n",
              "      <td>255</td>\n",
              "      <td>255</td>\n",
              "      <td>255</td>\n",
              "      <td>255</td>\n",
              "      <td>255</td>\n",
              "      <td>255</td>\n",
              "      <td>255</td>\n",
              "      <td>255</td>\n",
              "      <td>...</td>\n",
              "      <td>255</td>\n",
              "      <td>255</td>\n",
              "      <td>255</td>\n",
              "      <td>255</td>\n",
              "      <td>255</td>\n",
              "      <td>255</td>\n",
              "      <td>255</td>\n",
              "      <td>255</td>\n",
              "      <td>255</td>\n",
              "      <td>255</td>\n",
              "    </tr>\n",
              "    <tr>\n",
              "      <th>1</th>\n",
              "      <td>255</td>\n",
              "      <td>255</td>\n",
              "      <td>255</td>\n",
              "      <td>255</td>\n",
              "      <td>255</td>\n",
              "      <td>255</td>\n",
              "      <td>255</td>\n",
              "      <td>255</td>\n",
              "      <td>255</td>\n",
              "      <td>255</td>\n",
              "      <td>...</td>\n",
              "      <td>255</td>\n",
              "      <td>255</td>\n",
              "      <td>255</td>\n",
              "      <td>255</td>\n",
              "      <td>255</td>\n",
              "      <td>255</td>\n",
              "      <td>255</td>\n",
              "      <td>255</td>\n",
              "      <td>255</td>\n",
              "      <td>255</td>\n",
              "    </tr>\n",
              "    <tr>\n",
              "      <th>2</th>\n",
              "      <td>255</td>\n",
              "      <td>255</td>\n",
              "      <td>255</td>\n",
              "      <td>255</td>\n",
              "      <td>255</td>\n",
              "      <td>255</td>\n",
              "      <td>255</td>\n",
              "      <td>255</td>\n",
              "      <td>255</td>\n",
              "      <td>255</td>\n",
              "      <td>...</td>\n",
              "      <td>255</td>\n",
              "      <td>255</td>\n",
              "      <td>255</td>\n",
              "      <td>255</td>\n",
              "      <td>255</td>\n",
              "      <td>255</td>\n",
              "      <td>255</td>\n",
              "      <td>255</td>\n",
              "      <td>255</td>\n",
              "      <td>255</td>\n",
              "    </tr>\n",
              "    <tr>\n",
              "      <th>3</th>\n",
              "      <td>255</td>\n",
              "      <td>255</td>\n",
              "      <td>255</td>\n",
              "      <td>255</td>\n",
              "      <td>255</td>\n",
              "      <td>255</td>\n",
              "      <td>255</td>\n",
              "      <td>255</td>\n",
              "      <td>255</td>\n",
              "      <td>255</td>\n",
              "      <td>...</td>\n",
              "      <td>255</td>\n",
              "      <td>255</td>\n",
              "      <td>255</td>\n",
              "      <td>255</td>\n",
              "      <td>255</td>\n",
              "      <td>255</td>\n",
              "      <td>255</td>\n",
              "      <td>255</td>\n",
              "      <td>255</td>\n",
              "      <td>255</td>\n",
              "    </tr>\n",
              "    <tr>\n",
              "      <th>4</th>\n",
              "      <td>255</td>\n",
              "      <td>255</td>\n",
              "      <td>255</td>\n",
              "      <td>255</td>\n",
              "      <td>255</td>\n",
              "      <td>255</td>\n",
              "      <td>255</td>\n",
              "      <td>255</td>\n",
              "      <td>255</td>\n",
              "      <td>255</td>\n",
              "      <td>...</td>\n",
              "      <td>255</td>\n",
              "      <td>255</td>\n",
              "      <td>255</td>\n",
              "      <td>255</td>\n",
              "      <td>255</td>\n",
              "      <td>255</td>\n",
              "      <td>255</td>\n",
              "      <td>255</td>\n",
              "      <td>255</td>\n",
              "      <td>255</td>\n",
              "    </tr>\n",
              "  </tbody>\n",
              "</table>\n",
              "<p>5 rows × 784 columns</p>\n",
              "</div>\n",
              "      <button class=\"colab-df-convert\" onclick=\"convertToInteractive('df-23138346-de4d-45a8-a8bd-4eaa9fb589c3')\"\n",
              "              title=\"Convert this dataframe to an interactive table.\"\n",
              "              style=\"display:none;\">\n",
              "        \n",
              "  <svg xmlns=\"http://www.w3.org/2000/svg\" height=\"24px\"viewBox=\"0 0 24 24\"\n",
              "       width=\"24px\">\n",
              "    <path d=\"M0 0h24v24H0V0z\" fill=\"none\"/>\n",
              "    <path d=\"M18.56 5.44l.94 2.06.94-2.06 2.06-.94-2.06-.94-.94-2.06-.94 2.06-2.06.94zm-11 1L8.5 8.5l.94-2.06 2.06-.94-2.06-.94L8.5 2.5l-.94 2.06-2.06.94zm10 10l.94 2.06.94-2.06 2.06-.94-2.06-.94-.94-2.06-.94 2.06-2.06.94z\"/><path d=\"M17.41 7.96l-1.37-1.37c-.4-.4-.92-.59-1.43-.59-.52 0-1.04.2-1.43.59L10.3 9.45l-7.72 7.72c-.78.78-.78 2.05 0 2.83L4 21.41c.39.39.9.59 1.41.59.51 0 1.02-.2 1.41-.59l7.78-7.78 2.81-2.81c.8-.78.8-2.07 0-2.86zM5.41 20L4 18.59l7.72-7.72 1.47 1.35L5.41 20z\"/>\n",
              "  </svg>\n",
              "      </button>\n",
              "      \n",
              "  <style>\n",
              "    .colab-df-container {\n",
              "      display:flex;\n",
              "      flex-wrap:wrap;\n",
              "      gap: 12px;\n",
              "    }\n",
              "\n",
              "    .colab-df-convert {\n",
              "      background-color: #E8F0FE;\n",
              "      border: none;\n",
              "      border-radius: 50%;\n",
              "      cursor: pointer;\n",
              "      display: none;\n",
              "      fill: #1967D2;\n",
              "      height: 32px;\n",
              "      padding: 0 0 0 0;\n",
              "      width: 32px;\n",
              "    }\n",
              "\n",
              "    .colab-df-convert:hover {\n",
              "      background-color: #E2EBFA;\n",
              "      box-shadow: 0px 1px 2px rgba(60, 64, 67, 0.3), 0px 1px 3px 1px rgba(60, 64, 67, 0.15);\n",
              "      fill: #174EA6;\n",
              "    }\n",
              "\n",
              "    [theme=dark] .colab-df-convert {\n",
              "      background-color: #3B4455;\n",
              "      fill: #D2E3FC;\n",
              "    }\n",
              "\n",
              "    [theme=dark] .colab-df-convert:hover {\n",
              "      background-color: #434B5C;\n",
              "      box-shadow: 0px 1px 3px 1px rgba(0, 0, 0, 0.15);\n",
              "      filter: drop-shadow(0px 1px 2px rgba(0, 0, 0, 0.3));\n",
              "      fill: #FFFFFF;\n",
              "    }\n",
              "  </style>\n",
              "\n",
              "      <script>\n",
              "        const buttonEl =\n",
              "          document.querySelector('#df-23138346-de4d-45a8-a8bd-4eaa9fb589c3 button.colab-df-convert');\n",
              "        buttonEl.style.display =\n",
              "          google.colab.kernel.accessAllowed ? 'block' : 'none';\n",
              "\n",
              "        async function convertToInteractive(key) {\n",
              "          const element = document.querySelector('#df-23138346-de4d-45a8-a8bd-4eaa9fb589c3');\n",
              "          const dataTable =\n",
              "            await google.colab.kernel.invokeFunction('convertToInteractive',\n",
              "                                                     [key], {});\n",
              "          if (!dataTable) return;\n",
              "\n",
              "          const docLinkHtml = 'Like what you see? Visit the ' +\n",
              "            '<a target=\"_blank\" href=https://colab.research.google.com/notebooks/data_table.ipynb>data table notebook</a>'\n",
              "            + ' to learn more about interactive tables.';\n",
              "          element.innerHTML = '';\n",
              "          dataTable['output_type'] = 'display_data';\n",
              "          await google.colab.output.renderOutput(dataTable, element);\n",
              "          const docLink = document.createElement('div');\n",
              "          docLink.innerHTML = docLinkHtml;\n",
              "          element.appendChild(docLink);\n",
              "        }\n",
              "      </script>\n",
              "    </div>\n",
              "  </div>\n",
              "  "
            ]
          },
          "metadata": {},
          "execution_count": 11
        }
      ]
    },
    {
      "cell_type": "code",
      "source": [
        "X_train = trainset.values\n",
        "X_train = trainset.values.reshape(-1,28,28,1)\n",
        "print(X_train.shape)"
      ],
      "metadata": {
        "colab": {
          "base_uri": "https://localhost:8080/"
        },
        "id": "zZZKTvdG30AI",
        "outputId": "26576da3-343c-43e5-f75d-1314b696b33f"
      },
      "execution_count": 12,
      "outputs": [
        {
          "output_type": "stream",
          "name": "stdout",
          "text": [
            "(12844, 28, 28, 1)\n"
          ]
        }
      ]
    },
    {
      "cell_type": "code",
      "source": [
        "test_label=test['label']\n",
        "X_test=test.drop(['label'],axis=1)\n",
        "print(X_test.shape)\n",
        "X_test.head()"
      ],
      "metadata": {
        "colab": {
          "base_uri": "https://localhost:8080/",
          "height": 317
        },
        "id": "I4bcTbQ231H6",
        "outputId": "02375b22-ba6e-41d2-bacb-f8bde5b39de8"
      },
      "execution_count": 13,
      "outputs": [
        {
          "output_type": "stream",
          "name": "stdout",
          "text": [
            "(4267, 784)\n"
          ]
        },
        {
          "output_type": "execute_result",
          "data": {
            "text/plain": [
              "   pixel_0  pixel_1  pixel_2  pixel_3  pixel_4  pixel_5  pixel_6  pixel_7  \\\n",
              "0      255      255      255      255      255      255      255      255   \n",
              "1      255      255      255      255      255      255      255      255   \n",
              "2      255      255      255      255      255      255      255      255   \n",
              "3      255      255      255      255      255      255      255      255   \n",
              "4      255      255      255      255      255      255      253      255   \n",
              "\n",
              "   pixel_8  pixel_9  ...  pixel_774  pixel_775  pixel_776  pixel_777  \\\n",
              "0      255      255  ...        255        255        255        255   \n",
              "1      255      255  ...        255        255        255        255   \n",
              "2      255      255  ...        255        255        255        255   \n",
              "3      255      255  ...        255        255        255        255   \n",
              "4      255      255  ...        255        255        255        255   \n",
              "\n",
              "   pixel_778  pixel_779  pixel_780  pixel_781  pixel_782  pixel_783  \n",
              "0        255        255        255        255        255        255  \n",
              "1        255        255        255        255        255        255  \n",
              "2        255        255        255        255        255        255  \n",
              "3        255        255        255        255        255        255  \n",
              "4        255        255        255        255        255        255  \n",
              "\n",
              "[5 rows x 784 columns]"
            ],
            "text/html": [
              "\n",
              "  <div id=\"df-71ad4b47-9323-4d93-80d2-325e4038d864\">\n",
              "    <div class=\"colab-df-container\">\n",
              "      <div>\n",
              "<style scoped>\n",
              "    .dataframe tbody tr th:only-of-type {\n",
              "        vertical-align: middle;\n",
              "    }\n",
              "\n",
              "    .dataframe tbody tr th {\n",
              "        vertical-align: top;\n",
              "    }\n",
              "\n",
              "    .dataframe thead th {\n",
              "        text-align: right;\n",
              "    }\n",
              "</style>\n",
              "<table border=\"1\" class=\"dataframe\">\n",
              "  <thead>\n",
              "    <tr style=\"text-align: right;\">\n",
              "      <th></th>\n",
              "      <th>pixel_0</th>\n",
              "      <th>pixel_1</th>\n",
              "      <th>pixel_2</th>\n",
              "      <th>pixel_3</th>\n",
              "      <th>pixel_4</th>\n",
              "      <th>pixel_5</th>\n",
              "      <th>pixel_6</th>\n",
              "      <th>pixel_7</th>\n",
              "      <th>pixel_8</th>\n",
              "      <th>pixel_9</th>\n",
              "      <th>...</th>\n",
              "      <th>pixel_774</th>\n",
              "      <th>pixel_775</th>\n",
              "      <th>pixel_776</th>\n",
              "      <th>pixel_777</th>\n",
              "      <th>pixel_778</th>\n",
              "      <th>pixel_779</th>\n",
              "      <th>pixel_780</th>\n",
              "      <th>pixel_781</th>\n",
              "      <th>pixel_782</th>\n",
              "      <th>pixel_783</th>\n",
              "    </tr>\n",
              "  </thead>\n",
              "  <tbody>\n",
              "    <tr>\n",
              "      <th>0</th>\n",
              "      <td>255</td>\n",
              "      <td>255</td>\n",
              "      <td>255</td>\n",
              "      <td>255</td>\n",
              "      <td>255</td>\n",
              "      <td>255</td>\n",
              "      <td>255</td>\n",
              "      <td>255</td>\n",
              "      <td>255</td>\n",
              "      <td>255</td>\n",
              "      <td>...</td>\n",
              "      <td>255</td>\n",
              "      <td>255</td>\n",
              "      <td>255</td>\n",
              "      <td>255</td>\n",
              "      <td>255</td>\n",
              "      <td>255</td>\n",
              "      <td>255</td>\n",
              "      <td>255</td>\n",
              "      <td>255</td>\n",
              "      <td>255</td>\n",
              "    </tr>\n",
              "    <tr>\n",
              "      <th>1</th>\n",
              "      <td>255</td>\n",
              "      <td>255</td>\n",
              "      <td>255</td>\n",
              "      <td>255</td>\n",
              "      <td>255</td>\n",
              "      <td>255</td>\n",
              "      <td>255</td>\n",
              "      <td>255</td>\n",
              "      <td>255</td>\n",
              "      <td>255</td>\n",
              "      <td>...</td>\n",
              "      <td>255</td>\n",
              "      <td>255</td>\n",
              "      <td>255</td>\n",
              "      <td>255</td>\n",
              "      <td>255</td>\n",
              "      <td>255</td>\n",
              "      <td>255</td>\n",
              "      <td>255</td>\n",
              "      <td>255</td>\n",
              "      <td>255</td>\n",
              "    </tr>\n",
              "    <tr>\n",
              "      <th>2</th>\n",
              "      <td>255</td>\n",
              "      <td>255</td>\n",
              "      <td>255</td>\n",
              "      <td>255</td>\n",
              "      <td>255</td>\n",
              "      <td>255</td>\n",
              "      <td>255</td>\n",
              "      <td>255</td>\n",
              "      <td>255</td>\n",
              "      <td>255</td>\n",
              "      <td>...</td>\n",
              "      <td>255</td>\n",
              "      <td>255</td>\n",
              "      <td>255</td>\n",
              "      <td>255</td>\n",
              "      <td>255</td>\n",
              "      <td>255</td>\n",
              "      <td>255</td>\n",
              "      <td>255</td>\n",
              "      <td>255</td>\n",
              "      <td>255</td>\n",
              "    </tr>\n",
              "    <tr>\n",
              "      <th>3</th>\n",
              "      <td>255</td>\n",
              "      <td>255</td>\n",
              "      <td>255</td>\n",
              "      <td>255</td>\n",
              "      <td>255</td>\n",
              "      <td>255</td>\n",
              "      <td>255</td>\n",
              "      <td>255</td>\n",
              "      <td>255</td>\n",
              "      <td>255</td>\n",
              "      <td>...</td>\n",
              "      <td>255</td>\n",
              "      <td>255</td>\n",
              "      <td>255</td>\n",
              "      <td>255</td>\n",
              "      <td>255</td>\n",
              "      <td>255</td>\n",
              "      <td>255</td>\n",
              "      <td>255</td>\n",
              "      <td>255</td>\n",
              "      <td>255</td>\n",
              "    </tr>\n",
              "    <tr>\n",
              "      <th>4</th>\n",
              "      <td>255</td>\n",
              "      <td>255</td>\n",
              "      <td>255</td>\n",
              "      <td>255</td>\n",
              "      <td>255</td>\n",
              "      <td>255</td>\n",
              "      <td>253</td>\n",
              "      <td>255</td>\n",
              "      <td>255</td>\n",
              "      <td>255</td>\n",
              "      <td>...</td>\n",
              "      <td>255</td>\n",
              "      <td>255</td>\n",
              "      <td>255</td>\n",
              "      <td>255</td>\n",
              "      <td>255</td>\n",
              "      <td>255</td>\n",
              "      <td>255</td>\n",
              "      <td>255</td>\n",
              "      <td>255</td>\n",
              "      <td>255</td>\n",
              "    </tr>\n",
              "  </tbody>\n",
              "</table>\n",
              "<p>5 rows × 784 columns</p>\n",
              "</div>\n",
              "      <button class=\"colab-df-convert\" onclick=\"convertToInteractive('df-71ad4b47-9323-4d93-80d2-325e4038d864')\"\n",
              "              title=\"Convert this dataframe to an interactive table.\"\n",
              "              style=\"display:none;\">\n",
              "        \n",
              "  <svg xmlns=\"http://www.w3.org/2000/svg\" height=\"24px\"viewBox=\"0 0 24 24\"\n",
              "       width=\"24px\">\n",
              "    <path d=\"M0 0h24v24H0V0z\" fill=\"none\"/>\n",
              "    <path d=\"M18.56 5.44l.94 2.06.94-2.06 2.06-.94-2.06-.94-.94-2.06-.94 2.06-2.06.94zm-11 1L8.5 8.5l.94-2.06 2.06-.94-2.06-.94L8.5 2.5l-.94 2.06-2.06.94zm10 10l.94 2.06.94-2.06 2.06-.94-2.06-.94-.94-2.06-.94 2.06-2.06.94z\"/><path d=\"M17.41 7.96l-1.37-1.37c-.4-.4-.92-.59-1.43-.59-.52 0-1.04.2-1.43.59L10.3 9.45l-7.72 7.72c-.78.78-.78 2.05 0 2.83L4 21.41c.39.39.9.59 1.41.59.51 0 1.02-.2 1.41-.59l7.78-7.78 2.81-2.81c.8-.78.8-2.07 0-2.86zM5.41 20L4 18.59l7.72-7.72 1.47 1.35L5.41 20z\"/>\n",
              "  </svg>\n",
              "      </button>\n",
              "      \n",
              "  <style>\n",
              "    .colab-df-container {\n",
              "      display:flex;\n",
              "      flex-wrap:wrap;\n",
              "      gap: 12px;\n",
              "    }\n",
              "\n",
              "    .colab-df-convert {\n",
              "      background-color: #E8F0FE;\n",
              "      border: none;\n",
              "      border-radius: 50%;\n",
              "      cursor: pointer;\n",
              "      display: none;\n",
              "      fill: #1967D2;\n",
              "      height: 32px;\n",
              "      padding: 0 0 0 0;\n",
              "      width: 32px;\n",
              "    }\n",
              "\n",
              "    .colab-df-convert:hover {\n",
              "      background-color: #E2EBFA;\n",
              "      box-shadow: 0px 1px 2px rgba(60, 64, 67, 0.3), 0px 1px 3px 1px rgba(60, 64, 67, 0.15);\n",
              "      fill: #174EA6;\n",
              "    }\n",
              "\n",
              "    [theme=dark] .colab-df-convert {\n",
              "      background-color: #3B4455;\n",
              "      fill: #D2E3FC;\n",
              "    }\n",
              "\n",
              "    [theme=dark] .colab-df-convert:hover {\n",
              "      background-color: #434B5C;\n",
              "      box-shadow: 0px 1px 3px 1px rgba(0, 0, 0, 0.15);\n",
              "      filter: drop-shadow(0px 1px 2px rgba(0, 0, 0, 0.3));\n",
              "      fill: #FFFFFF;\n",
              "    }\n",
              "  </style>\n",
              "\n",
              "      <script>\n",
              "        const buttonEl =\n",
              "          document.querySelector('#df-71ad4b47-9323-4d93-80d2-325e4038d864 button.colab-df-convert');\n",
              "        buttonEl.style.display =\n",
              "          google.colab.kernel.accessAllowed ? 'block' : 'none';\n",
              "\n",
              "        async function convertToInteractive(key) {\n",
              "          const element = document.querySelector('#df-71ad4b47-9323-4d93-80d2-325e4038d864');\n",
              "          const dataTable =\n",
              "            await google.colab.kernel.invokeFunction('convertToInteractive',\n",
              "                                                     [key], {});\n",
              "          if (!dataTable) return;\n",
              "\n",
              "          const docLinkHtml = 'Like what you see? Visit the ' +\n",
              "            '<a target=\"_blank\" href=https://colab.research.google.com/notebooks/data_table.ipynb>data table notebook</a>'\n",
              "            + ' to learn more about interactive tables.';\n",
              "          element.innerHTML = '';\n",
              "          dataTable['output_type'] = 'display_data';\n",
              "          await google.colab.output.renderOutput(dataTable, element);\n",
              "          const docLink = document.createElement('div');\n",
              "          docLink.innerHTML = docLinkHtml;\n",
              "          element.appendChild(docLink);\n",
              "        }\n",
              "      </script>\n",
              "    </div>\n",
              "  </div>\n",
              "  "
            ]
          },
          "metadata": {},
          "execution_count": 13
        }
      ]
    },
    {
      "cell_type": "code",
      "source": [
        "from sklearn.preprocessing import LabelBinarizer\n",
        "lb=LabelBinarizer()\n",
        "y_train=lb.fit_transform(train_label)\n",
        "y_test=lb.fit_transform(test_label)"
      ],
      "metadata": {
        "id": "PMXl__Ba34hI"
      },
      "execution_count": 14,
      "outputs": []
    },
    {
      "cell_type": "code",
      "source": [
        "print(y_train)\n",
        "print(\"-------------------\")\n",
        "print(y_test)"
      ],
      "metadata": {
        "colab": {
          "base_uri": "https://localhost:8080/"
        },
        "id": "ANYsHx1y37CV",
        "outputId": "4830c503-8b70-4bb0-8be6-c1b57f9affb9"
      },
      "execution_count": 15,
      "outputs": [
        {
          "output_type": "stream",
          "name": "stdout",
          "text": [
            "[[1 0 0 ... 0 0 0]\n",
            " [1 0 0 ... 0 0 0]\n",
            " [1 0 0 ... 0 0 0]\n",
            " ...\n",
            " [0 0 0 ... 0 0 1]\n",
            " [0 0 0 ... 0 0 1]\n",
            " [0 0 0 ... 0 0 1]]\n",
            "-------------------\n",
            "[[1 0 0 ... 0 0 0]\n",
            " [1 0 0 ... 0 0 0]\n",
            " [1 0 0 ... 0 0 0]\n",
            " ...\n",
            " [0 0 0 ... 0 0 1]\n",
            " [0 0 0 ... 0 0 1]\n",
            " [0 0 0 ... 0 0 1]]\n"
          ]
        }
      ]
    },
    {
      "cell_type": "code",
      "source": [
        "X_test=X_test.values.reshape(-1,28,28,1)\n",
        "print(X_train.shape,y_train.shape,X_test.shape,y_test.shape)"
      ],
      "metadata": {
        "colab": {
          "base_uri": "https://localhost:8080/"
        },
        "id": "XCXjeYEz5EiK",
        "outputId": "be365318-90bf-4a62-f4d5-3a7241190e82"
      },
      "execution_count": 16,
      "outputs": [
        {
          "output_type": "stream",
          "name": "stdout",
          "text": [
            "(12844, 28, 28, 1) (12844, 27) (4267, 28, 28, 1) (4267, 27)\n"
          ]
        }
      ]
    },
    {
      "cell_type": "code",
      "source": [
        "from tensorflow.keras.preprocessing.image import ImageDataGenerator\n",
        "train_datagen = ImageDataGenerator(rescale = 1/255.,\n",
        "                                  rotation_range = 0,\n",
        "                                  height_shift_range=0.2,\n",
        "                                  width_shift_range=0.2,\n",
        "                                  shear_range=0,\n",
        "                                  zoom_range=0.2,\n",
        "                                  horizontal_flip=True,\n",
        "                                  fill_mode='nearest')\n",
        "\n",
        "X_test=X_test/255"
      ],
      "metadata": {
        "id": "XKGc6njM5GqT"
      },
      "execution_count": 17,
      "outputs": []
    },
    {
      "cell_type": "code",
      "source": [
        "base={0:'0',1:'A',2:'B',3:'C',4:'D',5:'E',6:'F',7:'G',8:'H',9:'I',10:'J',11:'K',12:'L',13:'M',14:'N',\n",
        "      15:'O',16:'P',17:'Q',18:'R',19:'S',20:'T',21:'U',22:'V',23:'W',24:'X',25:'Y',26:'Z'}"
      ],
      "metadata": {
        "id": "QmqfZCKB5I4c"
      },
      "execution_count": 18,
      "outputs": []
    },
    {
      "cell_type": "code",
      "source": [
        "label = np.argmax(y_train,axis=1)\n",
        "label"
      ],
      "metadata": {
        "colab": {
          "base_uri": "https://localhost:8080/"
        },
        "id": "OnhWDsy85LD9",
        "outputId": "f00bc692-aa38-4771-928c-175c2fc80825"
      },
      "execution_count": 19,
      "outputs": [
        {
          "output_type": "execute_result",
          "data": {
            "text/plain": [
              "array([ 0,  0,  0, ..., 26, 26, 26])"
            ]
          },
          "metadata": {},
          "execution_count": 19
        }
      ]
    },
    {
      "cell_type": "code",
      "source": [
        "f, mx= plt.subplots(4,4,figsize=(12,12))\n",
        "k=800\n",
        "for i in range(4):\n",
        "    for j in range(4):\n",
        "        mx[i,j].set_title(\"Label: {} \".format(base[label[k]]))\n",
        "        mx[i,j].imshow(X_train[k].reshape(28,28),cmap='pink')\n",
        "        k+=300\n",
        "        \n",
        "    plt.tight_layout()"
      ],
      "metadata": {
        "colab": {
          "base_uri": "https://localhost:8080/",
          "height": 869
        },
        "id": "FVlh9HS45Mi9",
        "outputId": "cf8f86c2-b345-4985-fbb5-4095346d3a84"
      },
      "execution_count": 20,
      "outputs": [
        {
          "output_type": "display_data",
          "data": {
            "text/plain": [
              "<Figure size 864x864 with 16 Axes>"
            ],
            "image/png": "[encoded data removed]"
          },
          "metadata": {}
        }
      ]
    },
    {
      "cell_type": "markdown",
      "source": [
        "Model Building"
      ],
      "metadata": {
        "id": "XDMHOBmj5Vxd"
      }
    },
    {
      "cell_type": "code",
      "source": [
        "model=Sequential()\n",
        "model.add(Conv2D(128,kernel_size=(5,5),\n",
        "                 strides=1,padding='same',activation='relu',input_shape=(28,28,1)))\n",
        "model.add(MaxPool2D(pool_size=(3,3),strides=2,padding='same'))\n",
        "\n",
        "model.add(Conv2D(32,kernel_size=(2,2),\n",
        "                strides=1,activation='relu',padding='same'))\n",
        "model.add(MaxPool2D((2,2),2,padding='same'))\n",
        "\n",
        "model.add(Conv2D(16,kernel_size=(2,2),\n",
        "                strides=1,activation='relu',padding='same'))\n",
        "model.add(MaxPool2D((2,2),2,padding='same'))\n",
        "          \n",
        "model.add(Flatten())"
      ],
      "metadata": {
        "id": "mD1FJd9s5PMQ"
      },
      "execution_count": 21,
      "outputs": []
    },
    {
      "cell_type": "code",
      "source": [
        "model.add(Dense(units=512,activation='relu'))\n",
        "model.add(Dropout(rate=0.25))\n",
        "model.add(Dense(units=27,activation='softmax'))\n",
        "model.summary()"
      ],
      "metadata": {
        "colab": {
          "base_uri": "https://localhost:8080/"
        },
        "id": "a-_ttQvb5ZSZ",
        "outputId": "20108d5d-c9f6-45a4-bada-4dd88d27ced3"
      },
      "execution_count": 22,
      "outputs": [
        {
          "output_type": "stream",
          "name": "stdout",
          "text": [
            "Model: \"sequential\"\n",
            "_________________________________________________________________\n",
            " Layer (type)                Output Shape              Param #   \n",
            "=================================================================\n",
            " conv2d (Conv2D)             (None, 28, 28, 128)       3328      \n",
            "                                                                 \n",
            " max_pooling2d (MaxPooling2D  (None, 14, 14, 128)      0         \n",
            " )                                                               \n",
            "                                                                 \n",
            " conv2d_1 (Conv2D)           (None, 14, 14, 32)        16416     \n",
            "                                                                 \n",
            " max_pooling2d_1 (MaxPooling  (None, 7, 7, 32)         0         \n",
            " 2D)                                                             \n",
            "                                                                 \n",
            " conv2d_2 (Conv2D)           (None, 7, 7, 16)          2064      \n",
            "                                                                 \n",
            " max_pooling2d_2 (MaxPooling  (None, 4, 4, 16)         0         \n",
            " 2D)                                                             \n",
            "                                                                 \n",
            " flatten (Flatten)           (None, 256)               0         \n",
            "                                                                 \n",
            " dense (Dense)               (None, 512)               131584    \n",
            "                                                                 \n",
            " dropout (Dropout)           (None, 512)               0         \n",
            "                                                                 \n",
            " dense_1 (Dense)             (None, 27)                13851     \n",
            "                                                                 \n",
            "=================================================================\n",
            "Total params: 167,243\n",
            "Trainable params: 167,243\n",
            "Non-trainable params: 0\n",
            "_________________________________________________________________\n"
          ]
        }
      ]
    },
    {
      "cell_type": "code",
      "source": [
        "model.compile(optimizer='adam',loss='categorical_crossentropy',\n",
        "              metrics=['accuracy'])"
      ],
      "metadata": {
        "id": "YU6pt9tv5bDa"
      },
      "execution_count": 23,
      "outputs": []
    },
    {
      "cell_type": "code",
      "source": [
        "X_test.shape,y_test.shape,X_train.shape,y_train.shape"
      ],
      "metadata": {
        "colab": {
          "base_uri": "https://localhost:8080/"
        },
        "id": "32AOcM5f5dAE",
        "outputId": "1440da53-4e6f-4cf8-9549-c997346ca4c1"
      },
      "execution_count": 24,
      "outputs": [
        {
          "output_type": "execute_result",
          "data": {
            "text/plain": [
              "((4267, 28, 28, 1), (4267, 27), (12844, 28, 28, 1), (12844, 27))"
            ]
          },
          "metadata": {},
          "execution_count": 24
        }
      ]
    },
    {
      "cell_type": "code",
      "source": [
        "model.fit(train_datagen.flow(X_train,y_train,batch_size=200),\n",
        "         epochs = 135,\n",
        "          validation_data=(X_test,y_test),\n",
        "          shuffle=1)"
      ],
      "metadata": {
        "colab": {
          "base_uri": "https://localhost:8080/"
        },
        "id": "SRZBqjgX5d-i",
        "outputId": "533c4e22-fe6c-4d0e-e7e5-f4a44fd47bcd"
      },
      "execution_count": 25,
      "outputs": [
        {
          "output_type": "stream",
          "name": "stdout",
          "text": [
            "Epoch 1/135\n",
            "65/65 [==============================] - 41s 571ms/step - loss: 3.2708 - accuracy: 0.0504 - val_loss: 3.0631 - val_accuracy: 0.1730\n",
            "Epoch 2/135\n",
            "65/65 [==============================] - 35s 544ms/step - loss: 2.7730 - accuracy: 0.1784 - val_loss: 2.3699 - val_accuracy: 0.2758\n",
            "Epoch 3/135\n",
            "65/65 [==============================] - 38s 584ms/step - loss: 2.2926 - accuracy: 0.2829 - val_loss: 1.6838 - val_accuracy: 0.4593\n",
            "Epoch 4/135\n",
            "65/65 [==============================] - 36s 552ms/step - loss: 1.9796 - accuracy: 0.3721 - val_loss: 1.4670 - val_accuracy: 0.5214\n",
            "Epoch 5/135\n",
            "65/65 [==============================] - 36s 557ms/step - loss: 1.7247 - accuracy: 0.4411 - val_loss: 1.0509 - val_accuracy: 0.6510\n",
            "Epoch 6/135\n",
            "65/65 [==============================] - 36s 552ms/step - loss: 1.6149 - accuracy: 0.4704 - val_loss: 0.9863 - val_accuracy: 0.6674\n",
            "Epoch 7/135\n",
            "65/65 [==============================] - 37s 567ms/step - loss: 1.4626 - accuracy: 0.5175 - val_loss: 0.9435 - val_accuracy: 0.6665\n",
            "Epoch 8/135\n",
            "65/65 [==============================] - 36s 555ms/step - loss: 1.3520 - accuracy: 0.5448 - val_loss: 0.7870 - val_accuracy: 0.7209\n",
            "Epoch 9/135\n",
            "65/65 [==============================] - 36s 560ms/step - loss: 1.2727 - accuracy: 0.5769 - val_loss: 0.7608 - val_accuracy: 0.7256\n",
            "Epoch 10/135\n",
            "65/65 [==============================] - 36s 558ms/step - loss: 1.2135 - accuracy: 0.5908 - val_loss: 0.6991 - val_accuracy: 0.7565\n",
            "Epoch 11/135\n",
            "65/65 [==============================] - 36s 556ms/step - loss: 1.1769 - accuracy: 0.5965 - val_loss: 0.6286 - val_accuracy: 0.7715\n",
            "Epoch 12/135\n",
            "65/65 [==============================] - 36s 556ms/step - loss: 1.0804 - accuracy: 0.6373 - val_loss: 0.5992 - val_accuracy: 0.7905\n",
            "Epoch 13/135\n",
            "65/65 [==============================] - 36s 555ms/step - loss: 1.0287 - accuracy: 0.6479 - val_loss: 0.5347 - val_accuracy: 0.7954\n",
            "Epoch 14/135\n",
            "65/65 [==============================] - 36s 556ms/step - loss: 1.0074 - accuracy: 0.6536 - val_loss: 0.5470 - val_accuracy: 0.8006\n",
            "Epoch 15/135\n",
            "65/65 [==============================] - 36s 556ms/step - loss: 0.9558 - accuracy: 0.6699 - val_loss: 0.5219 - val_accuracy: 0.8062\n",
            "Epoch 16/135\n",
            "65/65 [==============================] - 36s 550ms/step - loss: 0.9259 - accuracy: 0.6791 - val_loss: 0.5419 - val_accuracy: 0.7921\n",
            "Epoch 17/135\n",
            "65/65 [==============================] - 36s 560ms/step - loss: 0.9015 - accuracy: 0.6860 - val_loss: 0.5327 - val_accuracy: 0.8041\n",
            "Epoch 18/135\n",
            "65/65 [==============================] - 37s 567ms/step - loss: 0.8696 - accuracy: 0.6991 - val_loss: 0.4565 - val_accuracy: 0.8327\n",
            "Epoch 19/135\n",
            "65/65 [==============================] - 37s 575ms/step - loss: 0.8292 - accuracy: 0.7160 - val_loss: 0.4862 - val_accuracy: 0.8233\n",
            "Epoch 20/135\n",
            "65/65 [==============================] - 37s 571ms/step - loss: 0.8414 - accuracy: 0.7086 - val_loss: 0.4570 - val_accuracy: 0.8301\n",
            "Epoch 21/135\n",
            "65/65 [==============================] - 37s 581ms/step - loss: 0.7864 - accuracy: 0.7273 - val_loss: 0.4253 - val_accuracy: 0.8308\n",
            "Epoch 22/135\n",
            "65/65 [==============================] - 37s 575ms/step - loss: 0.7764 - accuracy: 0.7305 - val_loss: 0.3874 - val_accuracy: 0.8573\n",
            "Epoch 23/135\n",
            "65/65 [==============================] - 38s 581ms/step - loss: 0.7630 - accuracy: 0.7422 - val_loss: 0.3602 - val_accuracy: 0.8688\n",
            "Epoch 24/135\n",
            "65/65 [==============================] - 37s 572ms/step - loss: 0.7435 - accuracy: 0.7419 - val_loss: 0.3895 - val_accuracy: 0.8549\n",
            "Epoch 25/135\n",
            "65/65 [==============================] - 37s 562ms/step - loss: 0.7237 - accuracy: 0.7474 - val_loss: 0.3909 - val_accuracy: 0.8549\n",
            "Epoch 26/135\n",
            "65/65 [==============================] - 36s 557ms/step - loss: 0.7119 - accuracy: 0.7562 - val_loss: 0.3440 - val_accuracy: 0.8786\n",
            "Epoch 27/135\n",
            "65/65 [==============================] - 36s 549ms/step - loss: 0.6889 - accuracy: 0.7595 - val_loss: 0.3659 - val_accuracy: 0.8594\n",
            "Epoch 28/135\n",
            "65/65 [==============================] - 36s 547ms/step - loss: 0.6791 - accuracy: 0.7627 - val_loss: 0.3491 - val_accuracy: 0.8678\n",
            "Epoch 29/135\n",
            "65/65 [==============================] - 36s 550ms/step - loss: 0.6656 - accuracy: 0.7679 - val_loss: 0.3467 - val_accuracy: 0.8763\n",
            "Epoch 30/135\n",
            "65/65 [==============================] - 36s 551ms/step - loss: 0.6533 - accuracy: 0.7739 - val_loss: 0.3556 - val_accuracy: 0.8655\n",
            "Epoch 31/135\n",
            "65/65 [==============================] - 36s 548ms/step - loss: 0.6578 - accuracy: 0.7716 - val_loss: 0.3005 - val_accuracy: 0.8920\n",
            "Epoch 32/135\n",
            "65/65 [==============================] - 35s 544ms/step - loss: 0.6197 - accuracy: 0.7828 - val_loss: 0.2945 - val_accuracy: 0.8966\n",
            "Epoch 33/135\n",
            "65/65 [==============================] - 35s 545ms/step - loss: 0.6257 - accuracy: 0.7801 - val_loss: 0.3321 - val_accuracy: 0.8816\n",
            "Epoch 34/135\n",
            "65/65 [==============================] - 35s 543ms/step - loss: 0.5983 - accuracy: 0.7917 - val_loss: 0.2849 - val_accuracy: 0.9020\n",
            "Epoch 35/135\n",
            "65/65 [==============================] - 35s 541ms/step - loss: 0.6080 - accuracy: 0.7853 - val_loss: 0.3303 - val_accuracy: 0.8809\n",
            "Epoch 36/135\n",
            "65/65 [==============================] - 36s 547ms/step - loss: 0.5897 - accuracy: 0.7915 - val_loss: 0.2820 - val_accuracy: 0.8915\n",
            "Epoch 37/135\n",
            "65/65 [==============================] - 35s 545ms/step - loss: 0.5855 - accuracy: 0.7965 - val_loss: 0.3324 - val_accuracy: 0.8674\n",
            "Epoch 38/135\n",
            "65/65 [==============================] - 35s 542ms/step - loss: 0.5674 - accuracy: 0.7994 - val_loss: 0.2653 - val_accuracy: 0.9065\n",
            "Epoch 39/135\n",
            "65/65 [==============================] - 35s 544ms/step - loss: 0.5682 - accuracy: 0.8059 - val_loss: 0.2735 - val_accuracy: 0.9032\n",
            "Epoch 40/135\n",
            "65/65 [==============================] - 35s 542ms/step - loss: 0.5644 - accuracy: 0.8004 - val_loss: 0.2667 - val_accuracy: 0.9074\n",
            "Epoch 41/135\n",
            "65/65 [==============================] - 35s 541ms/step - loss: 0.5666 - accuracy: 0.8005 - val_loss: 0.2455 - val_accuracy: 0.9184\n",
            "Epoch 42/135\n",
            "65/65 [==============================] - 35s 541ms/step - loss: 0.5545 - accuracy: 0.8025 - val_loss: 0.2312 - val_accuracy: 0.9147\n",
            "Epoch 43/135\n",
            "65/65 [==============================] - 35s 544ms/step - loss: 0.5530 - accuracy: 0.8075 - val_loss: 0.2660 - val_accuracy: 0.9065\n",
            "Epoch 44/135\n",
            "65/65 [==============================] - 36s 556ms/step - loss: 0.5359 - accuracy: 0.8104 - val_loss: 0.2471 - val_accuracy: 0.9152\n",
            "Epoch 45/135\n",
            "65/65 [==============================] - 36s 553ms/step - loss: 0.5481 - accuracy: 0.8087 - val_loss: 0.2959 - val_accuracy: 0.8927\n",
            "Epoch 46/135\n",
            "65/65 [==============================] - 35s 543ms/step - loss: 0.5243 - accuracy: 0.8186 - val_loss: 0.3225 - val_accuracy: 0.8779\n",
            "Epoch 47/135\n",
            "65/65 [==============================] - 35s 542ms/step - loss: 0.5307 - accuracy: 0.8185 - val_loss: 0.2543 - val_accuracy: 0.9011\n",
            "Epoch 48/135\n",
            "65/65 [==============================] - 35s 543ms/step - loss: 0.5169 - accuracy: 0.8185 - val_loss: 0.2362 - val_accuracy: 0.9177\n",
            "Epoch 49/135\n",
            "65/65 [==============================] - 35s 544ms/step - loss: 0.5039 - accuracy: 0.8224 - val_loss: 0.2331 - val_accuracy: 0.9175\n",
            "Epoch 50/135\n",
            "65/65 [==============================] - 35s 542ms/step - loss: 0.4983 - accuracy: 0.8232 - val_loss: 0.2585 - val_accuracy: 0.9006\n",
            "Epoch 51/135\n",
            "65/65 [==============================] - 35s 542ms/step - loss: 0.5012 - accuracy: 0.8201 - val_loss: 0.2311 - val_accuracy: 0.9133\n",
            "Epoch 52/135\n",
            "65/65 [==============================] - 35s 542ms/step - loss: 0.4893 - accuracy: 0.8330 - val_loss: 0.2531 - val_accuracy: 0.9086\n",
            "Epoch 53/135\n",
            "65/65 [==============================] - 35s 543ms/step - loss: 0.4818 - accuracy: 0.8307 - val_loss: 0.2251 - val_accuracy: 0.9180\n",
            "Epoch 54/135\n",
            "65/65 [==============================] - 35s 544ms/step - loss: 0.4797 - accuracy: 0.8287 - val_loss: 0.2360 - val_accuracy: 0.9124\n",
            "Epoch 55/135\n",
            "65/65 [==============================] - 35s 543ms/step - loss: 0.4761 - accuracy: 0.8314 - val_loss: 0.2572 - val_accuracy: 0.9032\n",
            "Epoch 56/135\n",
            "65/65 [==============================] - 35s 545ms/step - loss: 0.4641 - accuracy: 0.8392 - val_loss: 0.2438 - val_accuracy: 0.9081\n",
            "Epoch 57/135\n",
            "65/65 [==============================] - 36s 549ms/step - loss: 0.4662 - accuracy: 0.8345 - val_loss: 0.1944 - val_accuracy: 0.9295\n",
            "Epoch 58/135\n",
            "65/65 [==============================] - 36s 551ms/step - loss: 0.4550 - accuracy: 0.8417 - val_loss: 0.2046 - val_accuracy: 0.9281\n",
            "Epoch 59/135\n",
            "65/65 [==============================] - 36s 550ms/step - loss: 0.4717 - accuracy: 0.8372 - val_loss: 0.2361 - val_accuracy: 0.9154\n",
            "Epoch 60/135\n",
            "65/65 [==============================] - 36s 565ms/step - loss: 0.4681 - accuracy: 0.8348 - val_loss: 0.2195 - val_accuracy: 0.9191\n",
            "Epoch 61/135\n",
            "65/65 [==============================] - 36s 556ms/step - loss: 0.4476 - accuracy: 0.8429 - val_loss: 0.2066 - val_accuracy: 0.9271\n",
            "Epoch 62/135\n",
            "65/65 [==============================] - 36s 552ms/step - loss: 0.4652 - accuracy: 0.8356 - val_loss: 0.2402 - val_accuracy: 0.9126\n",
            "Epoch 63/135\n",
            "65/65 [==============================] - 36s 547ms/step - loss: 0.4555 - accuracy: 0.8389 - val_loss: 0.2398 - val_accuracy: 0.9126\n",
            "Epoch 64/135\n",
            "65/65 [==============================] - 35s 537ms/step - loss: 0.4679 - accuracy: 0.8346 - val_loss: 0.1911 - val_accuracy: 0.9351\n",
            "Epoch 65/135\n",
            "65/65 [==============================] - 35s 543ms/step - loss: 0.4387 - accuracy: 0.8483 - val_loss: 0.1811 - val_accuracy: 0.9306\n",
            "Epoch 66/135\n",
            "65/65 [==============================] - 35s 536ms/step - loss: 0.4317 - accuracy: 0.8452 - val_loss: 0.2276 - val_accuracy: 0.9187\n",
            "Epoch 67/135\n",
            "65/65 [==============================] - 36s 546ms/step - loss: 0.4413 - accuracy: 0.8429 - val_loss: 0.2022 - val_accuracy: 0.9238\n",
            "Epoch 68/135\n",
            "65/65 [==============================] - 35s 543ms/step - loss: 0.4347 - accuracy: 0.8443 - val_loss: 0.1615 - val_accuracy: 0.9473\n",
            "Epoch 69/135\n",
            "65/65 [==============================] - 35s 542ms/step - loss: 0.4278 - accuracy: 0.8492 - val_loss: 0.2071 - val_accuracy: 0.9245\n",
            "Epoch 70/135\n",
            "65/65 [==============================] - 35s 541ms/step - loss: 0.4378 - accuracy: 0.8449 - val_loss: 0.1799 - val_accuracy: 0.9367\n",
            "Epoch 71/135\n",
            "65/65 [==============================] - 35s 543ms/step - loss: 0.4216 - accuracy: 0.8504 - val_loss: 0.1801 - val_accuracy: 0.9330\n",
            "Epoch 72/135\n",
            "65/65 [==============================] - 36s 549ms/step - loss: 0.4136 - accuracy: 0.8567 - val_loss: 0.1993 - val_accuracy: 0.9238\n",
            "Epoch 73/135\n",
            "65/65 [==============================] - 36s 555ms/step - loss: 0.4103 - accuracy: 0.8581 - val_loss: 0.1971 - val_accuracy: 0.9297\n",
            "Epoch 74/135\n",
            "65/65 [==============================] - 36s 547ms/step - loss: 0.4159 - accuracy: 0.8528 - val_loss: 0.1806 - val_accuracy: 0.9318\n",
            "Epoch 75/135\n",
            "65/65 [==============================] - 36s 546ms/step - loss: 0.4163 - accuracy: 0.8542 - val_loss: 0.1760 - val_accuracy: 0.9384\n",
            "Epoch 76/135\n",
            "65/65 [==============================] - 35s 541ms/step - loss: 0.4214 - accuracy: 0.8532 - val_loss: 0.1914 - val_accuracy: 0.9311\n",
            "Epoch 77/135\n",
            "65/65 [==============================] - 36s 546ms/step - loss: 0.3950 - accuracy: 0.8608 - val_loss: 0.1721 - val_accuracy: 0.9353\n",
            "Epoch 78/135\n",
            "65/65 [==============================] - 35s 545ms/step - loss: 0.3986 - accuracy: 0.8616 - val_loss: 0.1883 - val_accuracy: 0.9348\n",
            "Epoch 79/135\n",
            "65/65 [==============================] - 35s 545ms/step - loss: 0.4234 - accuracy: 0.8512 - val_loss: 0.1916 - val_accuracy: 0.9302\n",
            "Epoch 80/135\n",
            "65/65 [==============================] - 36s 555ms/step - loss: 0.3987 - accuracy: 0.8599 - val_loss: 0.1417 - val_accuracy: 0.9541\n",
            "Epoch 81/135\n",
            "65/65 [==============================] - 36s 556ms/step - loss: 0.3908 - accuracy: 0.8625 - val_loss: 0.1667 - val_accuracy: 0.9374\n",
            "Epoch 82/135\n",
            "65/65 [==============================] - 36s 554ms/step - loss: 0.3888 - accuracy: 0.8650 - val_loss: 0.1580 - val_accuracy: 0.9442\n",
            "Epoch 83/135\n",
            "65/65 [==============================] - 36s 550ms/step - loss: 0.3864 - accuracy: 0.8609 - val_loss: 0.1606 - val_accuracy: 0.9405\n",
            "Epoch 84/135\n",
            "65/65 [==============================] - 36s 549ms/step - loss: 0.4008 - accuracy: 0.8607 - val_loss: 0.1480 - val_accuracy: 0.9470\n",
            "Epoch 85/135\n",
            "65/65 [==============================] - 36s 550ms/step - loss: 0.3672 - accuracy: 0.8719 - val_loss: 0.1508 - val_accuracy: 0.9487\n",
            "Epoch 86/135\n",
            "65/65 [==============================] - 35s 545ms/step - loss: 0.3908 - accuracy: 0.8645 - val_loss: 0.1571 - val_accuracy: 0.9463\n",
            "Epoch 87/135\n",
            "65/65 [==============================] - 36s 546ms/step - loss: 0.3955 - accuracy: 0.8620 - val_loss: 0.1355 - val_accuracy: 0.9545\n",
            "Epoch 88/135\n",
            "65/65 [==============================] - 35s 543ms/step - loss: 0.3855 - accuracy: 0.8661 - val_loss: 0.1721 - val_accuracy: 0.9391\n",
            "Epoch 89/135\n",
            "65/65 [==============================] - 35s 542ms/step - loss: 0.3758 - accuracy: 0.8676 - val_loss: 0.1455 - val_accuracy: 0.9487\n",
            "Epoch 90/135\n",
            "65/65 [==============================] - 36s 554ms/step - loss: 0.3684 - accuracy: 0.8716 - val_loss: 0.1314 - val_accuracy: 0.9564\n",
            "Epoch 91/135\n",
            "65/65 [==============================] - 36s 551ms/step - loss: 0.3701 - accuracy: 0.8698 - val_loss: 0.1868 - val_accuracy: 0.9339\n",
            "Epoch 92/135\n",
            "65/65 [==============================] - 35s 537ms/step - loss: 0.3714 - accuracy: 0.8694 - val_loss: 0.1891 - val_accuracy: 0.9257\n",
            "Epoch 93/135\n",
            "65/65 [==============================] - 35s 539ms/step - loss: 0.3562 - accuracy: 0.8757 - val_loss: 0.1337 - val_accuracy: 0.9522\n",
            "Epoch 94/135\n",
            "65/65 [==============================] - 35s 540ms/step - loss: 0.3573 - accuracy: 0.8741 - val_loss: 0.1530 - val_accuracy: 0.9461\n",
            "Epoch 95/135\n",
            "65/65 [==============================] - 35s 542ms/step - loss: 0.3587 - accuracy: 0.8772 - val_loss: 0.1374 - val_accuracy: 0.9564\n",
            "Epoch 96/135\n",
            "65/65 [==============================] - 35s 547ms/step - loss: 0.3600 - accuracy: 0.8738 - val_loss: 0.1193 - val_accuracy: 0.9602\n",
            "Epoch 97/135\n",
            "65/65 [==============================] - 35s 544ms/step - loss: 0.3561 - accuracy: 0.8730 - val_loss: 0.1460 - val_accuracy: 0.9438\n",
            "Epoch 98/135\n",
            "65/65 [==============================] - 36s 548ms/step - loss: 0.3705 - accuracy: 0.8702 - val_loss: 0.1387 - val_accuracy: 0.9543\n",
            "Epoch 99/135\n",
            "65/65 [==============================] - 36s 549ms/step - loss: 0.3350 - accuracy: 0.8793 - val_loss: 0.1591 - val_accuracy: 0.9454\n",
            "Epoch 100/135\n",
            "65/65 [==============================] - 36s 546ms/step - loss: 0.3547 - accuracy: 0.8736 - val_loss: 0.1452 - val_accuracy: 0.9510\n",
            "Epoch 101/135\n",
            "65/65 [==============================] - 35s 545ms/step - loss: 0.3316 - accuracy: 0.8864 - val_loss: 0.1383 - val_accuracy: 0.9520\n",
            "Epoch 102/135\n",
            "65/65 [==============================] - 35s 545ms/step - loss: 0.3595 - accuracy: 0.8722 - val_loss: 0.1473 - val_accuracy: 0.9494\n",
            "Epoch 103/135\n",
            "65/65 [==============================] - 35s 543ms/step - loss: 0.3519 - accuracy: 0.8755 - val_loss: 0.1297 - val_accuracy: 0.9531\n",
            "Epoch 104/135\n",
            "65/65 [==============================] - 35s 546ms/step - loss: 0.3547 - accuracy: 0.8733 - val_loss: 0.1261 - val_accuracy: 0.9536\n",
            "Epoch 105/135\n",
            "65/65 [==============================] - 36s 548ms/step - loss: 0.3463 - accuracy: 0.8775 - val_loss: 0.1450 - val_accuracy: 0.9496\n",
            "Epoch 106/135\n",
            "65/65 [==============================] - 36s 548ms/step - loss: 0.3495 - accuracy: 0.8758 - val_loss: 0.1566 - val_accuracy: 0.9428\n",
            "Epoch 107/135\n",
            "65/65 [==============================] - 35s 544ms/step - loss: 0.3427 - accuracy: 0.8785 - val_loss: 0.1449 - val_accuracy: 0.9475\n",
            "Epoch 108/135\n",
            "65/65 [==============================] - 36s 548ms/step - loss: 0.3451 - accuracy: 0.8819 - val_loss: 0.1188 - val_accuracy: 0.9599\n",
            "Epoch 109/135\n",
            "65/65 [==============================] - 36s 548ms/step - loss: 0.3385 - accuracy: 0.8834 - val_loss: 0.1314 - val_accuracy: 0.9534\n",
            "Epoch 110/135\n",
            "65/65 [==============================] - 36s 552ms/step - loss: 0.3527 - accuracy: 0.8774 - val_loss: 0.1348 - val_accuracy: 0.9541\n",
            "Epoch 111/135\n",
            "65/65 [==============================] - 36s 557ms/step - loss: 0.3256 - accuracy: 0.8888 - val_loss: 0.1212 - val_accuracy: 0.9592\n",
            "Epoch 112/135\n",
            "65/65 [==============================] - 36s 555ms/step - loss: 0.3371 - accuracy: 0.8834 - val_loss: 0.1375 - val_accuracy: 0.9529\n",
            "Epoch 113/135\n",
            "65/65 [==============================] - 36s 555ms/step - loss: 0.3328 - accuracy: 0.8827 - val_loss: 0.1088 - val_accuracy: 0.9639\n",
            "Epoch 114/135\n",
            "65/65 [==============================] - 35s 544ms/step - loss: 0.3465 - accuracy: 0.8792 - val_loss: 0.1431 - val_accuracy: 0.9496\n",
            "Epoch 115/135\n",
            "65/65 [==============================] - 35s 543ms/step - loss: 0.3259 - accuracy: 0.8866 - val_loss: 0.1495 - val_accuracy: 0.9484\n",
            "Epoch 116/135\n",
            "65/65 [==============================] - 35s 545ms/step - loss: 0.3261 - accuracy: 0.8826 - val_loss: 0.1329 - val_accuracy: 0.9520\n",
            "Epoch 117/135\n",
            "65/65 [==============================] - 36s 551ms/step - loss: 0.3225 - accuracy: 0.8855 - val_loss: 0.1358 - val_accuracy: 0.9513\n",
            "Epoch 118/135\n",
            "65/65 [==============================] - 35s 545ms/step - loss: 0.3283 - accuracy: 0.8808 - val_loss: 0.1134 - val_accuracy: 0.9625\n",
            "Epoch 119/135\n",
            "65/65 [==============================] - 35s 544ms/step - loss: 0.3258 - accuracy: 0.8873 - val_loss: 0.1289 - val_accuracy: 0.9555\n",
            "Epoch 120/135\n",
            "65/65 [==============================] - 35s 544ms/step - loss: 0.3159 - accuracy: 0.8905 - val_loss: 0.1273 - val_accuracy: 0.9555\n",
            "Epoch 121/135\n",
            "65/65 [==============================] - 36s 547ms/step - loss: 0.3292 - accuracy: 0.8844 - val_loss: 0.1180 - val_accuracy: 0.9595\n",
            "Epoch 122/135\n",
            "65/65 [==============================] - 36s 556ms/step - loss: 0.3115 - accuracy: 0.8924 - val_loss: 0.1125 - val_accuracy: 0.9595\n",
            "Epoch 123/135\n",
            "65/65 [==============================] - 37s 565ms/step - loss: 0.3159 - accuracy: 0.8887 - val_loss: 0.1449 - val_accuracy: 0.9473\n",
            "Epoch 124/135\n",
            "65/65 [==============================] - 36s 559ms/step - loss: 0.3278 - accuracy: 0.8844 - val_loss: 0.1150 - val_accuracy: 0.9543\n",
            "Epoch 125/135\n",
            "65/65 [==============================] - 36s 556ms/step - loss: 0.3320 - accuracy: 0.8852 - val_loss: 0.1117 - val_accuracy: 0.9616\n",
            "Epoch 126/135\n",
            "65/65 [==============================] - 36s 554ms/step - loss: 0.3138 - accuracy: 0.8896 - val_loss: 0.1144 - val_accuracy: 0.9590\n",
            "Epoch 127/135\n",
            "65/65 [==============================] - 36s 556ms/step - loss: 0.3032 - accuracy: 0.8918 - val_loss: 0.1119 - val_accuracy: 0.9583\n",
            "Epoch 128/135\n",
            "65/65 [==============================] - 36s 551ms/step - loss: 0.2937 - accuracy: 0.8986 - val_loss: 0.1187 - val_accuracy: 0.9588\n",
            "Epoch 129/135\n",
            "65/65 [==============================] - 36s 553ms/step - loss: 0.3021 - accuracy: 0.8926 - val_loss: 0.1251 - val_accuracy: 0.9545\n",
            "Epoch 130/135\n",
            "65/65 [==============================] - 36s 547ms/step - loss: 0.3094 - accuracy: 0.8891 - val_loss: 0.1344 - val_accuracy: 0.9520\n",
            "Epoch 131/135\n",
            "65/65 [==============================] - 36s 550ms/step - loss: 0.3004 - accuracy: 0.8922 - val_loss: 0.1161 - val_accuracy: 0.9585\n",
            "Epoch 132/135\n",
            "65/65 [==============================] - 36s 552ms/step - loss: 0.3161 - accuracy: 0.8883 - val_loss: 0.1084 - val_accuracy: 0.9660\n",
            "Epoch 133/135\n",
            "65/65 [==============================] - 36s 552ms/step - loss: 0.3115 - accuracy: 0.8895 - val_loss: 0.1138 - val_accuracy: 0.9620\n",
            "Epoch 134/135\n",
            "65/65 [==============================] - 36s 548ms/step - loss: 0.3062 - accuracy: 0.8909 - val_loss: 0.1234 - val_accuracy: 0.9552\n",
            "Epoch 135/135\n",
            "65/65 [==============================] - 36s 549ms/step - loss: 0.3013 - accuracy: 0.8972 - val_loss: 0.2033 - val_accuracy: 0.9222\n"
          ]
        },
        {
          "output_type": "execute_result",
          "data": {
            "text/plain": [
              "<keras.callbacks.History at 0x7f98c779d850>"
            ]
          },
          "metadata": {},
          "execution_count": 25
        }
      ]
    },
    {
      "cell_type": "code",
      "source": [
        "(ls,acc)=model.evaluate(x=X_test,y=y_test)"
      ],
      "metadata": {
        "colab": {
          "base_uri": "https://localhost:8080/"
        },
        "id": "tTli4iZp5fm7",
        "outputId": "b755355e-5a4f-4aca-c63d-9bff5500fefb"
      },
      "execution_count": 26,
      "outputs": [
        {
          "output_type": "stream",
          "name": "stdout",
          "text": [
            "134/134 [==============================] - 5s 36ms/step - loss: 0.2033 - accuracy: 0.9222\n"
          ]
        }
      ]
    },
    {
      "cell_type": "code",
      "source": [
        "print('MODEL ACCURACY = {}%'.format(acc*100))"
      ],
      "metadata": {
        "colab": {
          "base_uri": "https://localhost:8080/"
        },
        "id": "Ox8syVNLNwjh",
        "outputId": "e4c54908-2a13-4cc4-efd9-0695918420e9"
      },
      "execution_count": 27,
      "outputs": [
        {
          "output_type": "stream",
          "name": "stdout",
          "text": [
            "MODEL ACCURACY = 92.21935868263245%\n"
          ]
        }
      ]
    },
    {
      "cell_type": "code",
      "source": [
        "pd=model.predict(X_test) \n",
        "classes_x=np.argmax(pd,axis=1)"
      ],
      "metadata": {
        "id": "ASbMSns8NyKR"
      },
      "execution_count": 28,
      "outputs": []
    },
    {
      "cell_type": "code",
      "source": [
        "pd[0],classes_x[0]"
      ],
      "metadata": {
        "colab": {
          "base_uri": "https://localhost:8080/"
        },
        "id": "c9vNYCUENznA",
        "outputId": "5d73b1a4-35ba-4bde-fb3d-a3f3feaf1da1"
      },
      "execution_count": 29,
      "outputs": [
        {
          "output_type": "execute_result",
          "data": {
            "text/plain": [
              "(array([1.0000000e+00, 1.6062223e-14, 3.0396956e-11, 9.4976212e-15,\n",
              "        1.6449364e-11, 9.9155721e-13, 3.4566361e-14, 2.4639437e-09,\n",
              "        1.3622037e-10, 8.5053804e-12, 2.8078573e-14, 1.9019036e-10,\n",
              "        9.9987462e-15, 2.4263117e-10, 4.6537307e-13, 2.3338148e-10,\n",
              "        1.3561651e-11, 2.5977958e-13, 8.9526879e-11, 1.7391570e-14,\n",
              "        4.6877827e-12, 1.3390578e-10, 5.3312874e-09, 1.1016715e-11,\n",
              "        4.0269656e-11, 1.7701089e-15, 2.8119186e-11], dtype=float32), 0)"
            ]
          },
          "metadata": {},
          "execution_count": 29
        }
      ]
    },
    {
      "cell_type": "code",
      "source": [
        "len(classes_x),len(pd)"
      ],
      "metadata": {
        "colab": {
          "base_uri": "https://localhost:8080/"
        },
        "id": "TI4kQqdCN16x",
        "outputId": "2136d59f-9b8d-4d73-be56-95b7af88bfc5"
      },
      "execution_count": 30,
      "outputs": [
        {
          "output_type": "execute_result",
          "data": {
            "text/plain": [
              "(4267, 4267)"
            ]
          },
          "metadata": {},
          "execution_count": 30
        }
      ]
    },
    {
      "cell_type": "code",
      "source": [
        "print(\"Predicted: {}\".format(classes_x[800]))\n",
        "plt.imshow(X_test[800].reshape(28,28),cmap='pink')"
      ],
      "metadata": {
        "colab": {
          "base_uri": "https://localhost:8080/",
          "height": 318
        },
        "id": "-NImPe5CN3pR",
        "outputId": "019b1067-40ca-48fe-9397-5b043a6da631"
      },
      "execution_count": 31,
      "outputs": [
        {
          "output_type": "stream",
          "name": "stdout",
          "text": [
            "Predicted: 5\n"
          ]
        },
        {
          "output_type": "execute_result",
          "data": {
            "text/plain": [
              "<matplotlib.image.AxesImage at 0x7f98bf769990>"
            ]
          },
          "metadata": {},
          "execution_count": 31
        },
        {
          "output_type": "display_data",
          "data": {
            "text/plain": [
              "<Figure size 432x288 with 1 Axes>"
            ],
            "image/png": "[encoded data removed]"
          },
          "metadata": {}
        }
      ]
    },
    {
      "cell_type": "code",
      "source": [
        "actual = np.argmax(y_test,axis=1)\n",
        "actual"
      ],
      "metadata": {
        "colab": {
          "base_uri": "https://localhost:8080/"
        },
        "id": "q290v9iFN40C",
        "outputId": "c5f323da-18bb-4e80-dfb7-9e2c9dd6437f"
      },
      "execution_count": 32,
      "outputs": [
        {
          "output_type": "execute_result",
          "data": {
            "text/plain": [
              "array([ 0,  0,  0, ..., 26, 26, 26])"
            ]
          },
          "metadata": {},
          "execution_count": 32
        }
      ]
    },
    {
      "cell_type": "code",
      "source": [
        "f, mx= plt.subplots(4,4,figsize=(16,16))\n",
        "k=300\n",
        "for i in range(4):\n",
        "    for j in range(4):\n",
        "        mx[i,j].set_title(\"Predicted: {} Actual: {} \".format(base[classes_x[k]],base[actual[k]]))\n",
        "        mx[i,j].imshow(X_test[k].reshape(28,28),cmap='pink')\n",
        "        k+=100\n",
        "        \n",
        "    plt.tight_layout()"
      ],
      "metadata": {
        "colab": {
          "base_uri": "https://localhost:8080/",
          "height": 887
        },
        "id": "BaCuvJycN7YG",
        "outputId": "d702b969-49c8-497b-da6e-e80321ae7126"
      },
      "execution_count": 33,
      "outputs": [
        {
          "output_type": "display_data",
          "data": {
            "text/plain": [
              "<Figure size 1152x1152 with 16 Axes>"
            ],
            "image/png": "[encoded data removed]"
          },
          "metadata": {}
        }
      ]
    },
    {
      "cell_type": "code",
      "source": [
        ""
      ],
      "metadata": {
        "id": "DEBZrSfSN-TY"
      },
      "execution_count": null,
      "outputs": []
    }
  ]
}